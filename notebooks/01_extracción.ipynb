{
 "cells": [
  {
   "cell_type": "markdown",
   "id": "cd3bddc8",
   "metadata": {},
   "source": [
    "# 🚀 Proyecto ELT con SpaceX API  \n",
    "## Notebook 01 – Extracción y Carga\n",
    "\n",
    "En este notebook se realiza la **extracción de datos desde la API pública de SpaceX** y el **almacenamiento en Delta Lake**.  \n",
    "\n",
    "Se siguen los pasos de la consigna:  \n",
    "1. Extracción de **2 o más endpoints**.  \n",
    "2. Uso de al menos un **endpoint dinámico (actualizable)** y otro **estático**.  \n",
    "3. Guardado en **formato Delta Lake**.  \n",
    "4. Aplicación de **extracción incremental y full** según corresponda.  \n"
   ]
  },
  {
   "cell_type": "code",
   "execution_count": null,
   "id": "df6a3062",
   "metadata": {},
   "outputs": [],
   "source": [
    "# =========================\n",
    "# CELDA DE CONFIGURACIÓN INICIAL\n",
    "# =========================\n",
    "\n",
    "import sys\n",
    "from pathlib import Path\n",
    "\n",
    "# --- RUTA DEL PROYECTO ---\n",
    "# Detecta automáticamente la raíz del proyecto buscando la carpeta \"src\"\n",
    "def find_project_root(marker=\"src\"):\n",
    "    path = Path().cwd()\n",
    "    for _ in range(5):  # sube hasta 5 niveles si es necesario\n",
    "        if (path / marker).exists():\n",
    "            return path\n",
    "        path = path.parent\n",
    "    raise FileNotFoundError(f\"No se encontró la carpeta '{marker}' en los niveles superiores.\")\n",
    "\n",
    "project_root = find_project_root()\n",
    "if str(project_root) not in sys.path:\n",
    "    sys.path.append(str(project_root))\n",
    "\n",
    "print(f\"Project root detectado en: {project_root}\")\n",
    "\n",
    "# --- IMPORTS DEL PROYECTO ---\n",
    "from src.extract import fetch_data, filter_incremental\n",
    "from src.load import save_to_parquet\n",
    "from src.utils import setup_logger\n",
    "from src.transform import load_from_parquet\n",
    "\n",
    "logger = setup_logger()"
   ]
  },
  {
   "cell_type": "markdown",
   "id": "785af7dd",
   "metadata": {},
   "source": [
    "## 🔗 Endpoints seleccionados\n",
    "\n",
    "- **Dinámicos:**  \n",
    "  - `launches/latest` → Último lanzamiento.  \n",
    "  - `launches/upcoming` → Próximos lanzamientos.  \n",
    "\n",
    "- **Estáticos:**  \n",
    "  - `rockets` → Información de cohetes.  \n",
    "  - `dragons` → Información de cápsulas Dragon.  "
   ]
  },
  {
   "cell_type": "code",
   "execution_count": null,
   "id": "60a0c7b7",
   "metadata": {},
   "outputs": [],
   "source": [
    "# Extracción de datos\n",
    "\n",
    "# FULL extraction de Rockets\n",
    "logger.info(\"Extrayendo Rockets (FULL)...\")\n",
    "rockets_df = fetch_data(\"rockets\")\n",
    "display(rockets_df.head())\n",
    "\n",
    "# FULL extraction de Dragons\n",
    "logger.info(\"Extrayendo Dragons (FULL)...\")\n",
    "dragons_df = fetch_data(\"dragons\")\n",
    "display(dragons_df.head())\n",
    "\n",
    "\n",
    "print(f\"✅ Extracción completa: {len(rockets_df)} rockets extraídos.\")\n",
    "print(f\"✅ Extracción completa: {len(dragons_df)} dragons extraídos.\")"
   ]
  },
  {
   "cell_type": "code",
   "execution_count": null,
   "id": "fddc6743",
   "metadata": {},
   "outputs": [],
   "source": [
    "# Extracción INCREMENTAL de upcoming launches\n",
    "logger.info(\"Extrayendo Upcoming Launches (INCREMENTAL)...\")\n",
    "launches_new = fetch_data(\"upcoming_launches\")\n",
    "display(launches_new.head())\n",
    "\n",
    "# Cargar histórico desde Bronze\n",
    "launches_old = load_from_parquet(\"upcoming_launches\", layer=\"bronze\")\n",
    "\n",
    "# Filtrar solo lo nuevo\n",
    "launches_inc = filter_incremental(launches_new, launches_old, time_col=\"date_utc\")\n",
    "\n",
    "if not launches_inc.empty:\n",
    "    print(f\"✅ Extracción completa: {len(launches_inc)} launches nuevos extraídos.\")\n",
    "else:\n",
    "    logger.info(\"No hay datos nuevos para upcoming_launches\")"
   ]
  },
  {
   "cell_type": "markdown",
   "id": "3582e388",
   "metadata": {},
   "source": [
    "## 💾 Guardado\n",
    "\n",
    "Se guarda cada DataFrame en formato **Delta Lake**:  \n",
    "- Los **endpoints dinámicos** (`latest_launch`, `upcoming_launches`) se almacenan con **particiones por fecha (extracción incremental)**.  \n",
    "- Los **endpoints estáticos** (`rockets`, `dragons`) se guardan en una única ruta (extracción full).  "
   ]
  },
  {
   "cell_type": "code",
   "execution_count": null,
   "id": "a1f948bb",
   "metadata": {},
   "outputs": [],
   "source": [
    "# Guardado de datos en Parquet\n",
    "\n",
    "# FULL save de Rockets\n",
    "save_to_parquet(rockets_df, \"rockets\", layer=\"bronze\", incremental=False, mode=\"overwrite\")\n",
    "\n",
    "# INCREMENTAL save de Launches\n",
    "if not launches_inc.empty:\n",
    "    save_to_parquet(launches_inc, \"upcoming_launches\", layer=\"bronze\", incremental=True, mode=\"append\")\n",
    "\n",
    "logger.info(\"Todos los datasets fueron guardados correctamente en Parquet.\")"
   ]
  }
 ],
 "metadata": {
  "kernelspec": {
   "display_name": "Python 3",
   "language": "python",
   "name": "python3"
  },
  "language_info": {
   "codemirror_mode": {
    "name": "ipython",
    "version": 3
   },
   "file_extension": ".py",
   "mimetype": "text/x-python",
   "name": "python",
   "nbconvert_exporter": "python",
   "pygments_lexer": "ipython3",
   "version": "3.12.9"
  }
 },
 "nbformat": 4,
 "nbformat_minor": 5
}
