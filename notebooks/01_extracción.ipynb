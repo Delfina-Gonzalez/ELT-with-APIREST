{
 "cells": [
  {
   "cell_type": "markdown",
   "id": "cd3bddc8",
   "metadata": {},
   "source": [
    "# 🚀 Proyecto ELT con SpaceX API  \n",
    "## Notebook 01 – Extracción y Carga\n",
    "\n",
    "En este notebook se realiza la **extracción de datos desde la API pública de SpaceX** y el **almacenamiento en Delta Lake**.  \n",
    "\n",
    "Se siguen los pasos de la consigna:  \n",
    "1. Extracción de **2 o más endpoints**.  \n",
    "2. Uso de al menos un **endpoint dinámico (actualizable)** y otro **estático**.  \n",
    "3. Guardado en **formato Delta Lake**.  \n",
    "4. Aplicación de **extracción incremental y full** según corresponda.  \n"
   ]
  },
  {
   "cell_type": "code",
   "execution_count": 1,
   "id": "df6a3062",
   "metadata": {},
   "outputs": [
    {
     "name": "stdout",
     "output_type": "stream",
     "text": [
      "Project root detectado en: c:\\Users\\MONSO\\OneDrive\\Escritorio\\Final-DataEngineering\n"
     ]
    }
   ],
   "source": [
    "# =========================\n",
    "# CELDA DE CONFIGURACIÓN INICIAL\n",
    "# =========================\n",
    "\n",
    "import sys\n",
    "from pathlib import Path\n",
    "\n",
    "# --- RUTA DEL PROYECTO ---\n",
    "# Detecta automáticamente la raíz del proyecto buscando la carpeta \"src\"\n",
    "def find_project_root(marker=\"src\"):\n",
    "    path = Path().cwd()\n",
    "    for _ in range(5):  # sube hasta 5 niveles si es necesario\n",
    "        if (path / marker).exists():\n",
    "            return path\n",
    "        path = path.parent\n",
    "    raise FileNotFoundError(f\"No se encontró la carpeta '{marker}' en los niveles superiores.\")\n",
    "\n",
    "project_root = find_project_root()\n",
    "if str(project_root) not in sys.path:\n",
    "    sys.path.append(str(project_root))\n",
    "\n",
    "print(f\"Project root detectado en: {project_root}\")\n",
    "\n",
    "# --- IMPORTS DEL PROYECTO ---\n",
    "from src.extract import fetch_data, filter_incremental\n",
    "from src.load import save_to_parquet\n",
    "from src.utils import setup_logger\n",
    "from src.transform import load_from_parquet\n",
    "\n",
    "logger = setup_logger()"
   ]
  },
  {
   "cell_type": "markdown",
   "id": "785af7dd",
   "metadata": {},
   "source": [
    "## 🔗 Endpoints seleccionados\n",
    "\n",
    "- **Dinámicos:**  \n",
    "  - `launches/latest` → Último lanzamiento.  \n",
    "  - `launches/upcoming` → Próximos lanzamientos.  \n",
    "\n",
    "- **Estáticos:**  \n",
    "  - `rockets` → Información de cohetes.  \n",
    "  - `dragons` → Información de cápsulas Dragon.  "
   ]
  },
  {
   "cell_type": "code",
   "execution_count": 2,
   "id": "60a0c7b7",
   "metadata": {},
   "outputs": [
    {
     "name": "stderr",
     "output_type": "stream",
     "text": [
      "2025-09-06 17:27:57,398 - INFO - Extrayendo Rockets (FULL)...\n"
     ]
    },
    {
     "data": {
      "text/html": [
       "<div>\n",
       "<style scoped>\n",
       "    .dataframe tbody tr th:only-of-type {\n",
       "        vertical-align: middle;\n",
       "    }\n",
       "\n",
       "    .dataframe tbody tr th {\n",
       "        vertical-align: top;\n",
       "    }\n",
       "\n",
       "    .dataframe thead th {\n",
       "        text-align: right;\n",
       "    }\n",
       "</style>\n",
       "<table border=\"1\" class=\"dataframe\">\n",
       "  <thead>\n",
       "    <tr style=\"text-align: right;\">\n",
       "      <th></th>\n",
       "      <th>payload_weights</th>\n",
       "      <th>flickr_images</th>\n",
       "      <th>name</th>\n",
       "      <th>type</th>\n",
       "      <th>active</th>\n",
       "      <th>stages</th>\n",
       "      <th>boosters</th>\n",
       "      <th>cost_per_launch</th>\n",
       "      <th>success_rate_pct</th>\n",
       "      <th>first_flight</th>\n",
       "      <th>...</th>\n",
       "      <th>engines.number</th>\n",
       "      <th>engines.type</th>\n",
       "      <th>engines.version</th>\n",
       "      <th>engines.layout</th>\n",
       "      <th>engines.engine_loss_max</th>\n",
       "      <th>engines.propellant_1</th>\n",
       "      <th>engines.propellant_2</th>\n",
       "      <th>engines.thrust_to_weight</th>\n",
       "      <th>landing_legs.number</th>\n",
       "      <th>landing_legs.material</th>\n",
       "    </tr>\n",
       "  </thead>\n",
       "  <tbody>\n",
       "    <tr>\n",
       "      <th>0</th>\n",
       "      <td>[{'id': 'leo', 'name': 'Low Earth Orbit', 'kg'...</td>\n",
       "      <td>[https://imgur.com/DaCfMsj.jpg, https://imgur....</td>\n",
       "      <td>Falcon 1</td>\n",
       "      <td>rocket</td>\n",
       "      <td>False</td>\n",
       "      <td>2</td>\n",
       "      <td>0</td>\n",
       "      <td>6700000</td>\n",
       "      <td>40</td>\n",
       "      <td>2006-03-24</td>\n",
       "      <td>...</td>\n",
       "      <td>1</td>\n",
       "      <td>merlin</td>\n",
       "      <td>1C</td>\n",
       "      <td>single</td>\n",
       "      <td>0.0</td>\n",
       "      <td>liquid oxygen</td>\n",
       "      <td>RP-1 kerosene</td>\n",
       "      <td>96.0</td>\n",
       "      <td>0</td>\n",
       "      <td>None</td>\n",
       "    </tr>\n",
       "    <tr>\n",
       "      <th>1</th>\n",
       "      <td>[{'id': 'leo', 'name': 'Low Earth Orbit', 'kg'...</td>\n",
       "      <td>[https://farm1.staticflickr.com/929/2878733830...</td>\n",
       "      <td>Falcon 9</td>\n",
       "      <td>rocket</td>\n",
       "      <td>True</td>\n",
       "      <td>2</td>\n",
       "      <td>0</td>\n",
       "      <td>50000000</td>\n",
       "      <td>98</td>\n",
       "      <td>2010-06-04</td>\n",
       "      <td>...</td>\n",
       "      <td>9</td>\n",
       "      <td>merlin</td>\n",
       "      <td>1D+</td>\n",
       "      <td>octaweb</td>\n",
       "      <td>2.0</td>\n",
       "      <td>liquid oxygen</td>\n",
       "      <td>RP-1 kerosene</td>\n",
       "      <td>180.1</td>\n",
       "      <td>4</td>\n",
       "      <td>carbon fiber</td>\n",
       "    </tr>\n",
       "    <tr>\n",
       "      <th>2</th>\n",
       "      <td>[{'id': 'leo', 'name': 'Low Earth Orbit', 'kg'...</td>\n",
       "      <td>[https://farm5.staticflickr.com/4599/385838292...</td>\n",
       "      <td>Falcon Heavy</td>\n",
       "      <td>rocket</td>\n",
       "      <td>True</td>\n",
       "      <td>2</td>\n",
       "      <td>2</td>\n",
       "      <td>90000000</td>\n",
       "      <td>100</td>\n",
       "      <td>2018-02-06</td>\n",
       "      <td>...</td>\n",
       "      <td>27</td>\n",
       "      <td>merlin</td>\n",
       "      <td>1D+</td>\n",
       "      <td>octaweb</td>\n",
       "      <td>6.0</td>\n",
       "      <td>liquid oxygen</td>\n",
       "      <td>RP-1 kerosene</td>\n",
       "      <td>180.1</td>\n",
       "      <td>12</td>\n",
       "      <td>carbon fiber</td>\n",
       "    </tr>\n",
       "    <tr>\n",
       "      <th>3</th>\n",
       "      <td>[{'id': 'leo', 'name': 'Low Earth Orbit', 'kg'...</td>\n",
       "      <td>[https://live.staticflickr.com/65535/489541389...</td>\n",
       "      <td>Starship</td>\n",
       "      <td>rocket</td>\n",
       "      <td>False</td>\n",
       "      <td>2</td>\n",
       "      <td>0</td>\n",
       "      <td>7000000</td>\n",
       "      <td>0</td>\n",
       "      <td>2021-12-01</td>\n",
       "      <td>...</td>\n",
       "      <td>37</td>\n",
       "      <td>raptor</td>\n",
       "      <td></td>\n",
       "      <td>None</td>\n",
       "      <td>NaN</td>\n",
       "      <td>liquid oxygen</td>\n",
       "      <td>liquid methane</td>\n",
       "      <td>107.0</td>\n",
       "      <td>6</td>\n",
       "      <td>stainless steel</td>\n",
       "    </tr>\n",
       "  </tbody>\n",
       "</table>\n",
       "<p>4 rows × 56 columns</p>\n",
       "</div>"
      ],
      "text/plain": [
       "                                     payload_weights  \\\n",
       "0  [{'id': 'leo', 'name': 'Low Earth Orbit', 'kg'...   \n",
       "1  [{'id': 'leo', 'name': 'Low Earth Orbit', 'kg'...   \n",
       "2  [{'id': 'leo', 'name': 'Low Earth Orbit', 'kg'...   \n",
       "3  [{'id': 'leo', 'name': 'Low Earth Orbit', 'kg'...   \n",
       "\n",
       "                                       flickr_images          name    type  \\\n",
       "0  [https://imgur.com/DaCfMsj.jpg, https://imgur....      Falcon 1  rocket   \n",
       "1  [https://farm1.staticflickr.com/929/2878733830...      Falcon 9  rocket   \n",
       "2  [https://farm5.staticflickr.com/4599/385838292...  Falcon Heavy  rocket   \n",
       "3  [https://live.staticflickr.com/65535/489541389...      Starship  rocket   \n",
       "\n",
       "   active  stages  boosters  cost_per_launch  success_rate_pct first_flight  \\\n",
       "0   False       2         0          6700000                40   2006-03-24   \n",
       "1    True       2         0         50000000                98   2010-06-04   \n",
       "2    True       2         2         90000000               100   2018-02-06   \n",
       "3   False       2         0          7000000                 0   2021-12-01   \n",
       "\n",
       "   ... engines.number engines.type engines.version engines.layout  \\\n",
       "0  ...              1       merlin              1C         single   \n",
       "1  ...              9       merlin             1D+        octaweb   \n",
       "2  ...             27       merlin             1D+        octaweb   \n",
       "3  ...             37       raptor                           None   \n",
       "\n",
       "  engines.engine_loss_max  engines.propellant_1  engines.propellant_2  \\\n",
       "0                     0.0         liquid oxygen         RP-1 kerosene   \n",
       "1                     2.0         liquid oxygen         RP-1 kerosene   \n",
       "2                     6.0         liquid oxygen         RP-1 kerosene   \n",
       "3                     NaN         liquid oxygen        liquid methane   \n",
       "\n",
       "   engines.thrust_to_weight  landing_legs.number  landing_legs.material  \n",
       "0                      96.0                    0                   None  \n",
       "1                     180.1                    4           carbon fiber  \n",
       "2                     180.1                   12           carbon fiber  \n",
       "3                     107.0                    6        stainless steel  \n",
       "\n",
       "[4 rows x 56 columns]"
      ]
     },
     "metadata": {},
     "output_type": "display_data"
    },
    {
     "name": "stdout",
     "output_type": "stream",
     "text": [
      "✅ Extracción completa: 4 rockets extraídos.\n"
     ]
    }
   ],
   "source": [
    "# Extracción de datos\n",
    "\n",
    "# FULL extraction de Rockets\n",
    "logger.info(\"Extrayendo Rockets (FULL)...\")\n",
    "rockets_df = fetch_data(\"rockets\")\n",
    "display(rockets_df.head())\n",
    "\n",
    "\n",
    "print(f\"✅ Extracción completa: {len(rockets_df)} rockets extraídos.\")"
   ]
  },
  {
   "cell_type": "code",
   "execution_count": null,
   "id": "fddc6743",
   "metadata": {},
   "outputs": [
    {
     "name": "stderr",
     "output_type": "stream",
     "text": [
      "2025-09-06 17:27:57,981 - INFO - Extrayendo Launches (INCREMENTAL)...\n",
      "2025-09-06 17:27:58,740 - INFO - No hay datos nuevos para upcoming_launches\n"
     ]
    }
   ],
   "source": [
    "# Extracción INCREMENTAL de launches\n",
    "logger.info(\"Extrayendo Launches (INCREMENTAL)...\")\n",
    "launches_new = fetch_data(\"upcoming_launches\")\n",
    "display(launches_new.head())\n",
    "\n",
    "# Cargar histórico desde Bronze\n",
    "launches_old = load_from_parquet(\"upcoming_launches\", layer=\"bronze\")\n",
    "\n",
    "# Filtrar solo lo nuevo\n",
    "launches_inc = filter_incremental(launches_new, launches_old, time_col=\"date_utc\")\n",
    "\n",
    "if not launches_inc.empty:\n",
    "    print(f\"✅ Extracción completa: {len(launches_inc)} launches nuevos extraídos.\")\n",
    "else:\n",
    "    logger.info(\"No hay datos nuevos para upcoming_launches\")"
   ]
  },
  {
   "cell_type": "markdown",
   "id": "3582e388",
   "metadata": {},
   "source": [
    "## 💾 Guardado\n",
    "\n",
    "Se guarda cada DataFrame en formato **Delta Lake**:  \n",
    "- Los **endpoints dinámicos** (`latest_launch`, `upcoming_launches`) se almacenan con **particiones por fecha (extracción incremental)**.  \n",
    "- Los **endpoints estáticos** (`rockets`, `dragons`) se guardan en una única ruta (extracción full).  "
   ]
  },
  {
   "cell_type": "code",
   "execution_count": 4,
   "id": "a1f948bb",
   "metadata": {},
   "outputs": [
    {
     "name": "stderr",
     "output_type": "stream",
     "text": [
      "2025-09-06 17:27:58,797 - INFO - Todos los datasets fueron guardados correctamente en Parquet.\n"
     ]
    },
    {
     "name": "stdout",
     "output_type": "stream",
     "text": [
      "[INFO] Guardado FULL en C:\\Users\\MONSO\\OneDrive\\Escritorio\\Final-DataEngineering\\data\\bronze\\rockets\\rockets.parquet\n"
     ]
    }
   ],
   "source": [
    "# Guardado de datos en Parquet\n",
    "\n",
    "# FULL save de Rockets\n",
    "save_to_parquet(rockets_df, \"rockets\", layer=\"bronze\", incremental=False, mode=\"overwrite\")\n",
    "\n",
    "# INCREMENTAL save de Launches\n",
    "if not launches_inc.empty:\n",
    "    save_to_parquet(launches_inc, \"upcoming_launches\", layer=\"bronze\", incremental=True, mode=\"append\")\n",
    "\n",
    "logger.info(\"Todos los datasets fueron guardados correctamente en Parquet.\")"
   ]
  }
 ],
 "metadata": {
  "kernelspec": {
   "display_name": "Python 3",
   "language": "python",
   "name": "python3"
  },
  "language_info": {
   "codemirror_mode": {
    "name": "ipython",
    "version": 3
   },
   "file_extension": ".py",
   "mimetype": "text/x-python",
   "name": "python",
   "nbconvert_exporter": "python",
   "pygments_lexer": "ipython3",
   "version": "3.12.9"
  }
 },
 "nbformat": 4,
 "nbformat_minor": 5
}
