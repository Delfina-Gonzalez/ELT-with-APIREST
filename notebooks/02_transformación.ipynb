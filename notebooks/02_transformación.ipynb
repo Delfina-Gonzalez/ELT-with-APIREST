{
 "cells": [
  {
   "cell_type": "markdown",
   "id": "34ae3bbf",
   "metadata": {},
   "source": [
    "# 🚀 Proyecto ELT con SpaceX API  \n",
    "## Notebook 02 – Transformación de datos\n",
    "\n",
    "En este notebook se aplican tareas de **procesamiento y transformación de datos con Pandas**, según la consigna:  \n",
    "\n",
    "- Conversión de tipos. \n",
    "- Eliminación de duplicados.  \n",
    "- Manejo de valores nulos. \n",
    "- Eliminación de columnas. \n",
    "- Renombrado de columnas.  "
   ]
  },
  {
   "cell_type": "code",
   "execution_count": null,
   "id": "2070ff77",
   "metadata": {},
   "outputs": [
    {
     "name": "stderr",
     "output_type": "stream",
     "text": [
      "2025-09-06 18:54:40,583 - INFO - Inicio de transformaciones de datos\n"
     ]
    }
   ],
   "source": [
    "import sys\n",
    "\n",
    "# Ajusto para que la reconozca la ruta del proyecto\n",
    "sys.path.append(\"..\") \n",
    "\n",
    "# --- IMPORTS ---\n",
    "from src.transform import load_from_parquet, drop_duplicates, clean_dataframe, rename_columns, normalize_columns, drop_columns\n",
    "from src.load import save_to_parquet \n",
    "from src.config import setup_logger\n",
    "\n",
    "logger = setup_logger()\n",
    "\n",
    "# --- LOGGER ---\n",
    "logger = setup_logger()\n",
    "logger.info(\"Inicio de transformaciones de datos\")\n"
   ]
  },
  {
   "cell_type": "markdown",
   "id": "257bd41a",
   "metadata": {},
   "source": [
    "## 📥 Lectura de datos\n",
    "\n",
    "Se extraen los datasets desde Delta Lake.  \n",
    "Trabajaremos principalmente con:  \n",
    "- **Próximos lanzamientos** (`upcoming_launches`)  \n",
    "- **Cohetes** (`rockets`)  \n"
   ]
  },
  {
   "cell_type": "code",
   "execution_count": 2,
   "id": "28a894c4",
   "metadata": {},
   "outputs": [
    {
     "name": "stderr",
     "output_type": "stream",
     "text": [
      "2025-09-06 18:54:40,602 - INFO - Cargando Rockets desde Bronze...\n",
      "2025-09-06 18:54:40,731 - INFO - ✅ Datos cargados desde Parquet. Inicio de transformaciones de datos.\n"
     ]
    }
   ],
   "source": [
    "# Rockets\n",
    "# --- Extracción de datos para transformar --- Cargar datos desde Bronze\n",
    "logger.info(\"Cargando Rockets desde Bronze...\")\n",
    "rockets_df = load_from_parquet(\"rockets\", layer=\"bronze\")\n",
    "\n",
    "logger.info(\"✅ Datos cargados desde Parquet. Inicio de transformaciones de datos.\")"
   ]
  },
  {
   "cell_type": "code",
   "execution_count": 3,
   "id": "aa0d1a28",
   "metadata": {},
   "outputs": [
    {
     "name": "stderr",
     "output_type": "stream",
     "text": [
      "2025-09-06 18:54:40,750 - INFO - Cargando Upcoming Launches desde Bronze...\n",
      "2025-09-06 18:54:40,765 - INFO - ✅ Datos cargados desde Parquet. Inicio de transformaciones de datos.\n"
     ]
    }
   ],
   "source": [
    "# Upcoming Launches\n",
    "# --- Extracción de datos para transformar --- Cargar datos desde Bronze\n",
    "logger.info(\"Cargando Upcoming Launches desde Bronze...\")\n",
    "upcoming_launches_df = load_from_parquet(\"upcoming_launches\", layer=\"bronze\")\n",
    "\n",
    "logger.info(\"✅ Datos cargados desde Parquet. Inicio de transformaciones de datos.\")"
   ]
  },
  {
   "cell_type": "markdown",
   "id": "ed47d40b",
   "metadata": {},
   "source": [
    "## 🛠 Transformaciones aplicadas en datos Rocket\n",
    "0. **Aseguramos tipos de datos**.\n",
    "1. **Eliminar duplicados**.  \n",
    "2. **Rellenar valores nulos** en la columna `details`.\n",
    "3. **Elimino columnas**  \n",
    "4. **Renombrar columnas** para mayor claridad.  \n"
   ]
  },
  {
   "cell_type": "code",
   "execution_count": 4,
   "id": "2026e974",
   "metadata": {},
   "outputs": [
    {
     "name": "stderr",
     "output_type": "stream",
     "text": [
      "2025-09-06 18:54:40,812 - INFO - Aplicando transformaciones en Rockets...\n"
     ]
    },
    {
     "data": {
      "text/html": [
       "<div>\n",
       "<style scoped>\n",
       "    .dataframe tbody tr th:only-of-type {\n",
       "        vertical-align: middle;\n",
       "    }\n",
       "\n",
       "    .dataframe tbody tr th {\n",
       "        vertical-align: top;\n",
       "    }\n",
       "\n",
       "    .dataframe thead th {\n",
       "        text-align: right;\n",
       "    }\n",
       "</style>\n",
       "<table border=\"1\" class=\"dataframe\">\n",
       "  <thead>\n",
       "    <tr style=\"text-align: right;\">\n",
       "      <th></th>\n",
       "      <th>Nombre</th>\n",
       "      <th>Estado_Activo</th>\n",
       "      <th>Impulsores</th>\n",
       "      <th>Costo_por_Lanzamiento</th>\n",
       "      <th>Tasa_de_Suceso</th>\n",
       "      <th>Fecha_del_Primer_Vuelo</th>\n",
       "      <th>País_de_Fabricación</th>\n",
       "      <th>wikipedia</th>\n",
       "      <th>description</th>\n",
       "      <th>id</th>\n",
       "      <th>...</th>\n",
       "      <th>engines.thrust_vacuum.lbf</th>\n",
       "      <th>Numero_de_Motores</th>\n",
       "      <th>Tipo_de_Motor</th>\n",
       "      <th>Version_de_Motor</th>\n",
       "      <th>Disposición_de_Motor</th>\n",
       "      <th>Pérdida_Máxima_de_Motor</th>\n",
       "      <th>Propelente_Secundario</th>\n",
       "      <th>Relación_Impulso_Peso</th>\n",
       "      <th>Número_de_Patas_de_Aterrizaje</th>\n",
       "      <th>Material_de_Patas_de_Aterrizaje</th>\n",
       "    </tr>\n",
       "  </thead>\n",
       "  <tbody>\n",
       "    <tr>\n",
       "      <th>0</th>\n",
       "      <td>Falcon 1</td>\n",
       "      <td>False</td>\n",
       "      <td>0</td>\n",
       "      <td>6700000</td>\n",
       "      <td>40</td>\n",
       "      <td>2006-03-24</td>\n",
       "      <td>Republic of the Marshall Islands</td>\n",
       "      <td>https://en.wikipedia.org/wiki/Falcon_1</td>\n",
       "      <td>The Falcon 1 was an expendable launch system p...</td>\n",
       "      <td>5e9d0d95eda69955f709d1eb</td>\n",
       "      <td>...</td>\n",
       "      <td>110000</td>\n",
       "      <td>1</td>\n",
       "      <td>merlin</td>\n",
       "      <td>1C</td>\n",
       "      <td>single</td>\n",
       "      <td>0.0</td>\n",
       "      <td>RP-1 kerosene</td>\n",
       "      <td>96.0</td>\n",
       "      <td>0</td>\n",
       "      <td>None</td>\n",
       "    </tr>\n",
       "    <tr>\n",
       "      <th>1</th>\n",
       "      <td>Falcon 9</td>\n",
       "      <td>True</td>\n",
       "      <td>0</td>\n",
       "      <td>50000000</td>\n",
       "      <td>98</td>\n",
       "      <td>2010-06-04</td>\n",
       "      <td>United States</td>\n",
       "      <td>https://en.wikipedia.org/wiki/Falcon_9</td>\n",
       "      <td>Falcon 9 is a two-stage rocket designed and ma...</td>\n",
       "      <td>5e9d0d95eda69973a809d1ec</td>\n",
       "      <td>...</td>\n",
       "      <td>205500</td>\n",
       "      <td>9</td>\n",
       "      <td>merlin</td>\n",
       "      <td>1D+</td>\n",
       "      <td>octaweb</td>\n",
       "      <td>2.0</td>\n",
       "      <td>RP-1 kerosene</td>\n",
       "      <td>180.1</td>\n",
       "      <td>4</td>\n",
       "      <td>carbon fiber</td>\n",
       "    </tr>\n",
       "    <tr>\n",
       "      <th>2</th>\n",
       "      <td>Falcon Heavy</td>\n",
       "      <td>True</td>\n",
       "      <td>2</td>\n",
       "      <td>90000000</td>\n",
       "      <td>100</td>\n",
       "      <td>2018-02-06</td>\n",
       "      <td>United States</td>\n",
       "      <td>https://en.wikipedia.org/wiki/Falcon_Heavy</td>\n",
       "      <td>With the ability to lift into orbit over 54 me...</td>\n",
       "      <td>5e9d0d95eda69974db09d1ed</td>\n",
       "      <td>...</td>\n",
       "      <td>205500</td>\n",
       "      <td>27</td>\n",
       "      <td>merlin</td>\n",
       "      <td>1D+</td>\n",
       "      <td>octaweb</td>\n",
       "      <td>6.0</td>\n",
       "      <td>RP-1 kerosene</td>\n",
       "      <td>180.1</td>\n",
       "      <td>12</td>\n",
       "      <td>carbon fiber</td>\n",
       "    </tr>\n",
       "    <tr>\n",
       "      <th>3</th>\n",
       "      <td>Starship</td>\n",
       "      <td>False</td>\n",
       "      <td>0</td>\n",
       "      <td>7000000</td>\n",
       "      <td>0</td>\n",
       "      <td>2021-12-01</td>\n",
       "      <td>United States</td>\n",
       "      <td>https://en.wikipedia.org/wiki/SpaceX_Starship</td>\n",
       "      <td>Starship and Super Heavy Rocket represent a fu...</td>\n",
       "      <td>5e9d0d96eda699382d09d1ee</td>\n",
       "      <td>...</td>\n",
       "      <td>440000</td>\n",
       "      <td>37</td>\n",
       "      <td>raptor</td>\n",
       "      <td></td>\n",
       "      <td>None</td>\n",
       "      <td>NaN</td>\n",
       "      <td>liquid methane</td>\n",
       "      <td>107.0</td>\n",
       "      <td>6</td>\n",
       "      <td>stainless steel</td>\n",
       "    </tr>\n",
       "  </tbody>\n",
       "</table>\n",
       "<p>4 rows × 50 columns</p>\n",
       "</div>"
      ],
      "text/plain": [
       "         Nombre  Estado_Activo  Impulsores  Costo_por_Lanzamiento  \\\n",
       "0      Falcon 1          False           0                6700000   \n",
       "1      Falcon 9           True           0               50000000   \n",
       "2  Falcon Heavy           True           2               90000000   \n",
       "3      Starship          False           0                7000000   \n",
       "\n",
       "   Tasa_de_Suceso Fecha_del_Primer_Vuelo               País_de_Fabricación  \\\n",
       "0              40             2006-03-24  Republic of the Marshall Islands   \n",
       "1              98             2010-06-04                     United States   \n",
       "2             100             2018-02-06                     United States   \n",
       "3               0             2021-12-01                     United States   \n",
       "\n",
       "                                       wikipedia  \\\n",
       "0         https://en.wikipedia.org/wiki/Falcon_1   \n",
       "1         https://en.wikipedia.org/wiki/Falcon_9   \n",
       "2     https://en.wikipedia.org/wiki/Falcon_Heavy   \n",
       "3  https://en.wikipedia.org/wiki/SpaceX_Starship   \n",
       "\n",
       "                                         description  \\\n",
       "0  The Falcon 1 was an expendable launch system p...   \n",
       "1  Falcon 9 is a two-stage rocket designed and ma...   \n",
       "2  With the ability to lift into orbit over 54 me...   \n",
       "3  Starship and Super Heavy Rocket represent a fu...   \n",
       "\n",
       "                         id  ...  engines.thrust_vacuum.lbf  \\\n",
       "0  5e9d0d95eda69955f709d1eb  ...                     110000   \n",
       "1  5e9d0d95eda69973a809d1ec  ...                     205500   \n",
       "2  5e9d0d95eda69974db09d1ed  ...                     205500   \n",
       "3  5e9d0d96eda699382d09d1ee  ...                     440000   \n",
       "\n",
       "   Numero_de_Motores  Tipo_de_Motor  Version_de_Motor  Disposición_de_Motor  \\\n",
       "0                  1         merlin                1C                single   \n",
       "1                  9         merlin               1D+               octaweb   \n",
       "2                 27         merlin               1D+               octaweb   \n",
       "3                 37         raptor                                    None   \n",
       "\n",
       "   Pérdida_Máxima_de_Motor  Propelente_Secundario  Relación_Impulso_Peso  \\\n",
       "0                      0.0          RP-1 kerosene                   96.0   \n",
       "1                      2.0          RP-1 kerosene                  180.1   \n",
       "2                      6.0          RP-1 kerosene                  180.1   \n",
       "3                      NaN         liquid methane                  107.0   \n",
       "\n",
       "   Número_de_Patas_de_Aterrizaje  Material_de_Patas_de_Aterrizaje  \n",
       "0                              0                             None  \n",
       "1                              4                     carbon fiber  \n",
       "2                             12                     carbon fiber  \n",
       "3                              6                  stainless steel  \n",
       "\n",
       "[4 rows x 50 columns]"
      ]
     },
     "metadata": {},
     "output_type": "display_data"
    },
    {
     "name": "stderr",
     "output_type": "stream",
     "text": [
      "2025-09-06 18:54:40,995 - INFO - ✅ Transformaciones aplicadas correctamente.\n"
     ]
    }
   ],
   "source": [
    "# Normalizo para evitar problemas de incompatibilidad con arrays\n",
    "rockets_df_normalized = normalize_columns(rockets_df)\n",
    "\n",
    "# Aplicar transformaciones\n",
    "logger.info(\"Aplicando transformaciones en Rockets...\")\n",
    "rockets_df_normalized = drop_duplicates(rockets_df_normalized)\n",
    "rockets_df_normalized = clean_dataframe(rockets_df_normalized)\n",
    "rockets_df_normalized = drop_columns(rockets_df_normalized, df_type=\"rockets\")\n",
    "rockets_df_normalized = rename_columns(rockets_df_normalized, \"rockets\")\n",
    "\n",
    "display(rockets_df_normalized.head())\n",
    "\n",
    "logger.info(\"✅ Transformaciones aplicadas correctamente.\")"
   ]
  },
  {
   "cell_type": "markdown",
   "id": "18de31c0",
   "metadata": {},
   "source": [
    "## 🛠 Transformaciones aplicadas en datos Upcoming Launches\n",
    "0. **Aseguramos tipos de datos**.\n",
    "1. **Eliminar duplicados**.  \n",
    "2. **Elimino columnas**  \n",
    "3. **Renombrar columnas** para mayor claridad.  \n"
   ]
  },
  {
   "cell_type": "code",
   "execution_count": 5,
   "id": "33edb940",
   "metadata": {},
   "outputs": [
    {
     "name": "stderr",
     "output_type": "stream",
     "text": [
      "2025-09-06 18:54:41,038 - INFO - Aplicando transformaciones en Upcoming Launches...\n"
     ]
    },
    {
     "data": {
      "text/html": [
       "<div>\n",
       "<style scoped>\n",
       "    .dataframe tbody tr th:only-of-type {\n",
       "        vertical-align: middle;\n",
       "    }\n",
       "\n",
       "    .dataframe tbody tr th {\n",
       "        vertical-align: top;\n",
       "    }\n",
       "\n",
       "    .dataframe thead th {\n",
       "        text-align: right;\n",
       "    }\n",
       "</style>\n",
       "<table border=\"1\" class=\"dataframe\">\n",
       "  <thead>\n",
       "    <tr style=\"text-align: right;\">\n",
       "      <th></th>\n",
       "      <th>ID_Cohete</th>\n",
       "      <th>launchpad</th>\n",
       "      <th>Número_de_Vuelo</th>\n",
       "      <th>Nombre</th>\n",
       "      <th>Fecha_Lanzamiento_UTC</th>\n",
       "      <th>Fecha_Lanzamiento_Unix</th>\n",
       "      <th>Fecha_Lanzamiento_Local</th>\n",
       "      <th>Precisión_de_Fecha</th>\n",
       "      <th>cores</th>\n",
       "      <th>id</th>\n",
       "    </tr>\n",
       "  </thead>\n",
       "  <tbody>\n",
       "    <tr>\n",
       "      <th>0</th>\n",
       "      <td>5e9d0d95eda69974db09d1ed</td>\n",
       "      <td>5e9e4502f509094188566f88</td>\n",
       "      <td>188</td>\n",
       "      <td>USSF-44</td>\n",
       "      <td>2022-11-01T13:41:00.000Z</td>\n",
       "      <td>1667310060</td>\n",
       "      <td>2022-11-01T09:41:00-04:00</td>\n",
       "      <td>hour</td>\n",
       "      <td>[{'core': '5fe3b8f2b3467846b3242181', 'flight'...</td>\n",
       "      <td>6243aec2af52800c6e91925d</td>\n",
       "    </tr>\n",
       "    <tr>\n",
       "      <th>1</th>\n",
       "      <td>5e9d0d95eda69973a809d1ec</td>\n",
       "      <td>5e9e4501f509094ba4566f84</td>\n",
       "      <td>188</td>\n",
       "      <td>Starlink 4-36 (v1.5)</td>\n",
       "      <td>2022-10-20T14:50:00.000Z</td>\n",
       "      <td>1666277400</td>\n",
       "      <td>2022-10-20T10:50:00-04:00</td>\n",
       "      <td>hour</td>\n",
       "      <td>[{'core': None, 'flight': None, 'gridfins': No...</td>\n",
       "      <td>63161345ffc78f3b8567070d</td>\n",
       "    </tr>\n",
       "    <tr>\n",
       "      <th>2</th>\n",
       "      <td>5e9d0d95eda69973a809d1ec</td>\n",
       "      <td>5e9e4501f509094ba4566f84</td>\n",
       "      <td>188</td>\n",
       "      <td>Galaxy 33 (15R) &amp; 34 (12R)</td>\n",
       "      <td>2022-10-08T23:05:00.000Z</td>\n",
       "      <td>1665270300</td>\n",
       "      <td>2022-10-08T19:05:00-04:00</td>\n",
       "      <td>hour</td>\n",
       "      <td>[{'core': None, 'flight': None, 'gridfins': Tr...</td>\n",
       "      <td>633f71240531f07b4fdf59bb</td>\n",
       "    </tr>\n",
       "    <tr>\n",
       "      <th>3</th>\n",
       "      <td>5e9d0d95eda69973a809d1ec</td>\n",
       "      <td>5e9e4501f509094ba4566f84</td>\n",
       "      <td>188</td>\n",
       "      <td>Hotbird 13F</td>\n",
       "      <td>2022-10-15T05:22:00.000Z</td>\n",
       "      <td>1665811320</td>\n",
       "      <td>2022-10-15T01:22:00-04:00</td>\n",
       "      <td>hour</td>\n",
       "      <td>[{'core': None, 'flight': None, 'gridfins': Tr...</td>\n",
       "      <td>633f71370531f07b4fdf59bc</td>\n",
       "    </tr>\n",
       "    <tr>\n",
       "      <th>4</th>\n",
       "      <td>5e9d0d95eda69973a809d1ec</td>\n",
       "      <td>5e9e4501f509094ba4566f84</td>\n",
       "      <td>189</td>\n",
       "      <td>Hotbird 13G</td>\n",
       "      <td>2022-11-03T03:24:00.000Z</td>\n",
       "      <td>1667445840</td>\n",
       "      <td>2022-11-02T23:24:00-04:00</td>\n",
       "      <td>hour</td>\n",
       "      <td>[{'core': None, 'flight': None, 'gridfins': Tr...</td>\n",
       "      <td>633f71dd0531f07b4fdf59c1</td>\n",
       "    </tr>\n",
       "  </tbody>\n",
       "</table>\n",
       "</div>"
      ],
      "text/plain": [
       "                  ID_Cohete                 launchpad  Número_de_Vuelo  \\\n",
       "0  5e9d0d95eda69974db09d1ed  5e9e4502f509094188566f88              188   \n",
       "1  5e9d0d95eda69973a809d1ec  5e9e4501f509094ba4566f84              188   \n",
       "2  5e9d0d95eda69973a809d1ec  5e9e4501f509094ba4566f84              188   \n",
       "3  5e9d0d95eda69973a809d1ec  5e9e4501f509094ba4566f84              188   \n",
       "4  5e9d0d95eda69973a809d1ec  5e9e4501f509094ba4566f84              189   \n",
       "\n",
       "                       Nombre     Fecha_Lanzamiento_UTC  \\\n",
       "0                     USSF-44  2022-11-01T13:41:00.000Z   \n",
       "1        Starlink 4-36 (v1.5)  2022-10-20T14:50:00.000Z   \n",
       "2  Galaxy 33 (15R) & 34 (12R)  2022-10-08T23:05:00.000Z   \n",
       "3                 Hotbird 13F  2022-10-15T05:22:00.000Z   \n",
       "4                 Hotbird 13G  2022-11-03T03:24:00.000Z   \n",
       "\n",
       "   Fecha_Lanzamiento_Unix    Fecha_Lanzamiento_Local Precisión_de_Fecha  \\\n",
       "0              1667310060  2022-11-01T09:41:00-04:00               hour   \n",
       "1              1666277400  2022-10-20T10:50:00-04:00               hour   \n",
       "2              1665270300  2022-10-08T19:05:00-04:00               hour   \n",
       "3              1665811320  2022-10-15T01:22:00-04:00               hour   \n",
       "4              1667445840  2022-11-02T23:24:00-04:00               hour   \n",
       "\n",
       "                                               cores                        id  \n",
       "0  [{'core': '5fe3b8f2b3467846b3242181', 'flight'...  6243aec2af52800c6e91925d  \n",
       "1  [{'core': None, 'flight': None, 'gridfins': No...  63161345ffc78f3b8567070d  \n",
       "2  [{'core': None, 'flight': None, 'gridfins': Tr...  633f71240531f07b4fdf59bb  \n",
       "3  [{'core': None, 'flight': None, 'gridfins': Tr...  633f71370531f07b4fdf59bc  \n",
       "4  [{'core': None, 'flight': None, 'gridfins': Tr...  633f71dd0531f07b4fdf59c1  "
      ]
     },
     "metadata": {},
     "output_type": "display_data"
    },
    {
     "name": "stderr",
     "output_type": "stream",
     "text": [
      "2025-09-06 18:54:41,098 - INFO - ✅ Transformaciones aplicadas correctamente.\n"
     ]
    }
   ],
   "source": [
    "# Normalizo para evitar problemas de incompatibilidad con arrays\n",
    "upcoming_launches_df_normalized = normalize_columns(upcoming_launches_df)\n",
    "\n",
    "# Aplicar transformaciones\n",
    "logger.info(\"Aplicando transformaciones en Upcoming Launches...\")\n",
    "upcoming_launches_df_normalized = drop_duplicates(upcoming_launches_df_normalized)\n",
    "upcoming_launches_df_normalized = clean_dataframe(upcoming_launches_df_normalized)\n",
    "upcoming_launches_df_normalized = drop_columns(upcoming_launches_df_normalized, df_type=\"upcoming_launches\")\n",
    "upcoming_launches_df_normalized = rename_columns(upcoming_launches_df_normalized, \"upcoming_launches\")\n",
    "\n",
    "display(upcoming_launches_df_normalized.head())\n",
    "\n",
    "logger.info(\"✅ Transformaciones aplicadas correctamente.\")"
   ]
  },
  {
   "cell_type": "markdown",
   "id": "1e2a3eae",
   "metadata": {},
   "source": [
    "## 💾 Guardado de datos normalizados y transformados en Silver"
   ]
  },
  {
   "cell_type": "code",
   "execution_count": 6,
   "id": "3fb03bf3",
   "metadata": {},
   "outputs": [
    {
     "name": "stderr",
     "output_type": "stream",
     "text": [
      "2025-09-06 18:54:41,179 - INFO - Guardando transformaciones en Silver...\n"
     ]
    },
    {
     "name": "stdout",
     "output_type": "stream",
     "text": [
      "[INFO] Guardado FULL en C:\\Users\\MONSO\\OneDrive\\Escritorio\\Final-DataEngineering\\data\\silver\\rockets\\rockets.parquet\n",
      "✅ Transformaciones guardadas en Silver: 4 filas\n"
     ]
    }
   ],
   "source": [
    "# Guardar en Silver\n",
    "logger.info(\"Guardando transformaciones en Silver...\")\n",
    "save_to_parquet(rockets_df, \"rockets\", layer=\"silver\", incremental=False, mode=\"overwrite\")\n",
    "\n",
    "print(f\"✅ Transformaciones guardadas en Silver: {len(rockets_df)} filas\")"
   ]
  }
 ],
 "metadata": {
  "kernelspec": {
   "display_name": "Python 3",
   "language": "python",
   "name": "python3"
  },
  "language_info": {
   "codemirror_mode": {
    "name": "ipython",
    "version": 3
   },
   "file_extension": ".py",
   "mimetype": "text/x-python",
   "name": "python",
   "nbconvert_exporter": "python",
   "pygments_lexer": "ipython3",
   "version": "3.12.9"
  }
 },
 "nbformat": 4,
 "nbformat_minor": 5
}
