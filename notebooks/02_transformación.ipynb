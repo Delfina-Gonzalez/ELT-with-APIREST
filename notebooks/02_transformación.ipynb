{
 "cells": [
  {
   "cell_type": "markdown",
   "id": "34ae3bbf",
   "metadata": {},
   "source": [
    "# 🚀 Proyecto ELT con SpaceX API  \n",
    "## Notebook 02 – Transformación de datos\n",
    "\n",
    "En este notebook se aplican tareas de **procesamiento y transformación de datos con Pandas**, según la consigna:  \n",
    "\n",
    "- Eliminación de duplicados.  \n",
    "- Manejo de valores nulos.  \n",
    "- Renombrado de columnas.  \n",
    "- Conversión de tipos.  \n",
    "- Creación de nuevas columnas.  \n",
    "- Unión (JOIN) entre DataFrames.  \n"
   ]
  },
  {
   "cell_type": "code",
   "execution_count": 1,
   "id": "2070ff77",
   "metadata": {},
   "outputs": [
    {
     "ename": "ImportError",
     "evalue": "cannot import name 'create_new_column' from 'src.transform' (c:\\Users\\MONSO\\OneDrive\\Escritorio\\Final-DataEngineering\\notebooks\\..\\src\\transform.py)",
     "output_type": "error",
     "traceback": [
      "\u001b[31m---------------------------------------------------------------------------\u001b[39m",
      "\u001b[31mImportError\u001b[39m                               Traceback (most recent call last)",
      "\u001b[36mCell\u001b[39m\u001b[36m \u001b[39m\u001b[32mIn[1]\u001b[39m\u001b[32m, line 7\u001b[39m\n\u001b[32m      4\u001b[39m sys.path.append(\u001b[33m\"\u001b[39m\u001b[33m..\u001b[39m\u001b[33m\"\u001b[39m) \n\u001b[32m      6\u001b[39m \u001b[38;5;66;03m# --- IMPORTS ---\u001b[39;00m\n\u001b[32m----> \u001b[39m\u001b[32m7\u001b[39m \u001b[38;5;28;01mfrom\u001b[39;00m\u001b[38;5;250m \u001b[39m\u001b[34;01msrc\u001b[39;00m\u001b[34;01m.\u001b[39;00m\u001b[34;01mtransform\u001b[39;00m\u001b[38;5;250m \u001b[39m\u001b[38;5;28;01mimport\u001b[39;00m load_from_parquet, drop_duplicates, handle_nulls, rename_columns, create_new_column, normalize_columns,  expand_payload_weights\n\u001b[32m      8\u001b[39m \u001b[38;5;28;01mfrom\u001b[39;00m\u001b[38;5;250m \u001b[39m\u001b[34;01msrc\u001b[39;00m\u001b[34;01m.\u001b[39;00m\u001b[34;01mload\u001b[39;00m\u001b[38;5;250m \u001b[39m\u001b[38;5;28;01mimport\u001b[39;00m save_to_parquet \n\u001b[32m      9\u001b[39m \u001b[38;5;28;01mfrom\u001b[39;00m\u001b[38;5;250m \u001b[39m\u001b[34;01msrc\u001b[39;00m\u001b[34;01m.\u001b[39;00m\u001b[34;01mutils\u001b[39;00m\u001b[38;5;250m \u001b[39m\u001b[38;5;28;01mimport\u001b[39;00m setup_logger\n",
      "\u001b[31mImportError\u001b[39m: cannot import name 'create_new_column' from 'src.transform' (c:\\Users\\MONSO\\OneDrive\\Escritorio\\Final-DataEngineering\\notebooks\\..\\src\\transform.py)"
     ]
    }
   ],
   "source": [
    "import sys\n",
    "\n",
    "# Ajusto para que la reconozca la ruta del proyecto\n",
    "sys.path.append(\"..\") \n",
    "\n",
    "# --- IMPORTS ---\n",
    "from src.transform import load_from_parquet, drop_duplicates, handle_nulls, rename_columns, create_new_column, normalize_columns,  expand_payload_weights\n",
    "from src.load import save_to_parquet \n",
    "from src.utils import setup_logger\n",
    "\n",
    "logger = setup_logger()\n",
    "\n",
    "# --- LOGGER ---\n",
    "logger = setup_logger()\n",
    "logger.info(\"Inicio de transformaciones de datos\")\n"
   ]
  },
  {
   "cell_type": "markdown",
   "id": "257bd41a",
   "metadata": {},
   "source": [
    "## 📥 Lectura de datos\n",
    "\n",
    "Se extraen los datasets desde Delta Lake.  \n",
    "Trabajaremos principalmente con:  \n",
    "- **Próximos lanzamientos** (`upcoming_launches`)  \n",
    "- **Cohetes** (`rockets`)  \n"
   ]
  },
  {
   "cell_type": "code",
   "execution_count": null,
   "id": "28a894c4",
   "metadata": {},
   "outputs": [],
   "source": [
    "# --- Extracción de datos para transformar --- Cargar datos desde Bronze\n",
    "logger.info(\"Cargando Rockets desde Bronze...\")\n",
    "rockets_df = load_from_parquet(\"rockets\", layer=\"bronze\")\n",
    "display(rockets_df.head())\n",
    "\n",
    "logger.info(\"✅ Datos cargados desde Parquet. Inicio de transformaciones de datos.\")"
   ]
  },
  {
   "cell_type": "markdown",
   "id": "ed47d40b",
   "metadata": {},
   "source": [
    "## 🛠 Transformaciones aplicadas\n",
    "1. **Eliminar duplicados**.  \n",
    "2. **Rellenar valores nulos** en la columna `details`.  \n",
    "3. **Renombrar columnas** para mayor claridad (`date_utc → fecha_lanzamiento`).  \n",
    "4. **Conversión de tipos** de fecha.  \n",
    "5. **Nueva columna**: indicador booleano si el lanzamiento es en 2025.  \n",
    "6. **Join** entre lanzamientos y cohetes.  \n"
   ]
  },
  {
   "cell_type": "code",
   "execution_count": null,
   "id": "2026e974",
   "metadata": {},
   "outputs": [],
   "source": [
    "# Normalizo para evitar problemas de incompatibilidad con arrays\n",
    "rockets_df_normalized = normalize_columns(rockets_df)\n",
    "\n",
    "# Aplicar transformaciones\n",
    "logger.info(\"Aplicando transformaciones...\")\n",
    "rockets_df_normalized = drop_duplicates(rockets_df_normalized)\n",
    "rockets_df_normalized = handle_nulls(rockets_df_normalized, [\"description\"], fill_value=\"Sin descripción\")\n",
    "rockets_df_normalized = rename_columns(rockets_df_normalized, {\"name\": \"rocket_name\"})\n",
    "rockets_df_normalized = expand_payload_weights(rockets_df_normalized)\n",
    "display(rockets_df_normalized.head())\n",
    "\n",
    "logger.info(\"✅ Transformaciones aplicadas correctamente.\")"
   ]
  },
  {
   "cell_type": "markdown",
   "id": "1e2a3eae",
   "metadata": {},
   "source": [
    "## 💾 Guardado de datos normalizados y transformados en Silver"
   ]
  },
  {
   "cell_type": "code",
   "execution_count": null,
   "id": "3fb03bf3",
   "metadata": {},
   "outputs": [],
   "source": [
    "# Guardar en Silver\n",
    "logger.info(\"Guardando transformaciones en Silver...\")\n",
    "save_to_parquet(rockets_df, \"rockets\", layer=\"silver\", incremental=False, mode=\"overwrite\")\n",
    "\n",
    "print(f\"✅ Transformaciones guardadas en Silver: {len(rockets_df)} filas\")"
   ]
  },
  {
   "cell_type": "markdown",
   "id": "c8d6eb24",
   "metadata": {},
   "source": [
    "## 👀 Vista de resultados\n",
    "\n",
    "Mostramos algunas columnas seleccionadas del DataFrame final:  \n"
   ]
  },
  {
   "cell_type": "code",
   "execution_count": null,
   "id": "7273aa9d",
   "metadata": {},
   "outputs": [],
   "source": []
  }
 ],
 "metadata": {
  "kernelspec": {
   "display_name": "Python 3",
   "language": "python",
   "name": "python3"
  },
  "language_info": {
   "codemirror_mode": {
    "name": "ipython",
    "version": 3
   },
   "file_extension": ".py",
   "mimetype": "text/x-python",
   "name": "python",
   "nbconvert_exporter": "python",
   "pygments_lexer": "ipython3",
   "version": "3.12.9"
  }
 },
 "nbformat": 4,
 "nbformat_minor": 5
}
